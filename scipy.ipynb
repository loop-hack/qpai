{
 "cells": [
  {
   "cell_type": "code",
   "execution_count": 2,
   "id": "dbbfb824",
   "metadata": {},
   "outputs": [],
   "source": [
    "a = [1, 2, 3, 4, 5]"
   ]
  },
  {
   "cell_type": "code",
   "execution_count": 3,
   "id": "387450f2",
   "metadata": {},
   "outputs": [],
   "source": [
    "b = [1, 2, 3, 4, 5, 6]"
   ]
  },
  {
   "cell_type": "code",
   "execution_count": 4,
   "id": "073acd5f",
   "metadata": {},
   "outputs": [
    {
     "name": "stdout",
     "output_type": "stream",
     "text": [
      "[1, 2, 3, 4, 5, 1, 2, 3, 4, 5, 6]\n"
     ]
    }
   ],
   "source": [
    "print(a + b)"
   ]
  },
  {
   "cell_type": "code",
   "execution_count": 5,
   "id": "d0f3a7ee",
   "metadata": {},
   "outputs": [],
   "source": [
    "result = []\n",
    "\n",
    "for x, y in zip(a, b):\n",
    "    result.append( x + y)"
   ]
  },
  {
   "cell_type": "code",
   "execution_count": 6,
   "id": "689e3011",
   "metadata": {},
   "outputs": [
    {
     "data": {
      "text/plain": [
       "[2, 4, 6, 8, 10]"
      ]
     },
     "execution_count": 6,
     "metadata": {},
     "output_type": "execute_result"
    }
   ],
   "source": [
    "result"
   ]
  },
  {
   "cell_type": "code",
   "execution_count": 2,
   "id": "53f2fde9",
   "metadata": {},
   "outputs": [],
   "source": [
    "import numpy as np"
   ]
  },
  {
   "cell_type": "code",
   "execution_count": 9,
   "id": "cedad08a",
   "metadata": {},
   "outputs": [],
   "source": [
    "a = np.array([1, 2, 3, 4])"
   ]
  },
  {
   "cell_type": "code",
   "execution_count": 10,
   "id": "5804dee4",
   "metadata": {},
   "outputs": [
    {
     "data": {
      "text/plain": [
       "dtype('int64')"
      ]
     },
     "execution_count": 10,
     "metadata": {},
     "output_type": "execute_result"
    }
   ],
   "source": [
    "a.dtype"
   ]
  },
  {
   "cell_type": "code",
   "execution_count": 11,
   "id": "0a9bec1c",
   "metadata": {},
   "outputs": [],
   "source": [
    "a = np.array([1.2, 3.4, 5.6, 7.8, 9.0])"
   ]
  },
  {
   "cell_type": "code",
   "execution_count": 12,
   "id": "e5ccadc1",
   "metadata": {},
   "outputs": [
    {
     "data": {
      "text/plain": [
       "dtype('float64')"
      ]
     },
     "execution_count": 12,
     "metadata": {},
     "output_type": "execute_result"
    }
   ],
   "source": [
    "a.dtype"
   ]
  },
  {
   "cell_type": "code",
   "execution_count": 16,
   "id": "d08d6bd8",
   "metadata": {},
   "outputs": [
    {
     "name": "stdout",
     "output_type": "stream",
     "text": [
      "[10.   3.4  5.6  7.8  9. ]\n"
     ]
    },
    {
     "data": {
      "text/plain": [
       "dtype('float64')"
      ]
     },
     "execution_count": 16,
     "metadata": {},
     "output_type": "execute_result"
    }
   ],
   "source": [
    "a[0] = 10\n",
    "print(a)\n",
    "a.dtype"
   ]
  },
  {
   "cell_type": "code",
   "execution_count": 18,
   "id": "89f4c56e",
   "metadata": {},
   "outputs": [
    {
     "data": {
      "text/plain": [
       "1"
      ]
     },
     "execution_count": 18,
     "metadata": {},
     "output_type": "execute_result"
    }
   ],
   "source": [
    "a.ndim"
   ]
  },
  {
   "cell_type": "code",
   "execution_count": 19,
   "id": "0b4225cd",
   "metadata": {},
   "outputs": [
    {
     "data": {
      "text/plain": [
       "5"
      ]
     },
     "execution_count": 19,
     "metadata": {},
     "output_type": "execute_result"
    }
   ],
   "source": [
    "a.size"
   ]
  },
  {
   "cell_type": "code",
   "execution_count": 23,
   "id": "02415eb4",
   "metadata": {},
   "outputs": [
    {
     "name": "stdout",
     "output_type": "stream",
     "text": [
      "[ 2.2  4.3  6.4  8.5 11.7]\n",
      "[-0.2 -0.3 -0.4 -0.5 -1.7]\n",
      "[ 1.2  4.6 10.2 18.  33.5]\n",
      "[0.83333333 0.86956522 0.88235294 0.88888889 0.74626866]\n",
      "[0. 0. 0. 0. 0.]\n",
      "[1. 2. 3. 4. 5.]\n",
      "[1.00000000e+00 4.92457765e+00 4.18998305e+01 5.12000000e+02\n",
      " 4.82057705e+04]\n"
     ]
    }
   ],
   "source": [
    "a = np.array([1, 2, 3, 4, 5])\n",
    "f = np.array([1.2, 2.3, 3.4, 4.5, 6.7])\n",
    "print( a + f)\n",
    "print( a - f)\n",
    "print( a * f)\n",
    "print( a / f)\n",
    "print( a // f)\n",
    "print( a % f)\n",
    "print( a ** f)"
   ]
  },
  {
   "cell_type": "markdown",
   "id": "7d01b025",
   "metadata": {},
   "source": [
    "Universal function (ufuncs)"
   ]
  },
  {
   "cell_type": "code",
   "execution_count": 24,
   "id": "8ba13fdf",
   "metadata": {},
   "outputs": [
    {
     "data": {
      "text/plain": [
       "array([ 0.84147098,  0.90929743,  0.14112001, -0.7568025 , -0.95892427])"
      ]
     },
     "execution_count": 24,
     "metadata": {},
     "output_type": "execute_result"
    }
   ],
   "source": [
    "np.sin(a)"
   ]
  },
  {
   "cell_type": "code",
   "execution_count": 25,
   "id": "f7139a93",
   "metadata": {},
   "outputs": [
    {
     "data": {
      "text/plain": [
       "array([  2.71828183,   7.3890561 ,  20.08553692,  54.59815003,\n",
       "       148.4131591 ])"
      ]
     },
     "execution_count": 25,
     "metadata": {},
     "output_type": "execute_result"
    }
   ],
   "source": [
    "np.exp(a)"
   ]
  },
  {
   "cell_type": "code",
   "execution_count": 3,
   "id": "76f1a9f5",
   "metadata": {},
   "outputs": [
    {
     "data": {
      "text/plain": [
       "dtype('int64')"
      ]
     },
     "execution_count": 3,
     "metadata": {},
     "output_type": "execute_result"
    }
   ],
   "source": [
    "a = np.array([[1, 2, 3, 4, 5], [6, 7, 8, 9, 10]])\n",
    "a.dtype"
   ]
  },
  {
   "cell_type": "code",
   "execution_count": 4,
   "id": "ef848314",
   "metadata": {},
   "outputs": [
    {
     "data": {
      "text/plain": [
       "10"
      ]
     },
     "execution_count": 4,
     "metadata": {},
     "output_type": "execute_result"
    }
   ],
   "source": [
    "a.size"
   ]
  },
  {
   "cell_type": "code",
   "execution_count": 5,
   "id": "2c680b36",
   "metadata": {},
   "outputs": [
    {
     "data": {
      "text/plain": [
       "(2, 5)"
      ]
     },
     "execution_count": 5,
     "metadata": {},
     "output_type": "execute_result"
    }
   ],
   "source": [
    "a.shape"
   ]
  },
  {
   "cell_type": "code",
   "execution_count": 6,
   "id": "f753ab85",
   "metadata": {},
   "outputs": [
    {
     "data": {
      "text/plain": [
       "2"
      ]
     },
     "execution_count": 6,
     "metadata": {},
     "output_type": "execute_result"
    }
   ],
   "source": [
    "a.ndim"
   ]
  },
  {
   "cell_type": "code",
   "execution_count": 10,
   "id": "aac950ad",
   "metadata": {},
   "outputs": [
    {
     "data": {
      "text/plain": [
       "array([ 6,  7, 12,  9, 10])"
      ]
     },
     "execution_count": 10,
     "metadata": {},
     "output_type": "execute_result"
    }
   ],
   "source": [
    "a[1, 2] = 12\n",
    "a[1]"
   ]
  },
  {
   "cell_type": "markdown",
   "id": "707cb899",
   "metadata": {},
   "source": [
    "NumPy : Indexing and Slicing"
   ]
  },
  {
   "cell_type": "code",
   "execution_count": 11,
   "id": "7fb17c79",
   "metadata": {},
   "outputs": [
    {
     "data": {
      "text/plain": [
       "array([11, 12])"
      ]
     },
     "execution_count": 11,
     "metadata": {},
     "output_type": "execute_result"
    }
   ],
   "source": [
    "a = np.array([10, 11, 12, 13, 14])\n",
    "a[1:3]"
   ]
  },
  {
   "cell_type": "code",
   "execution_count": null,
   "id": "14164721",
   "metadata": {},
   "outputs": [
    {
     "name": "stdout",
     "output_type": "stream",
     "text": [
      "[11 12]\n",
      "[11 12]\n",
      "[10 11 12]\n",
      "[13 14]\n",
      "[10 12 14]\n"
     ]
    }
   ],
   "source": [
    "# var[lower : upper : step] here we ahve lower bond and upper bond and steps for each element\n",
    "\n",
    "\n",
    "print(a[1:-2])  # means strip off first element and last two element then return stripped array\n",
    "print(a[-4:3])\n",
    "print(a[:3])  # grab first 3 elements\n",
    "print(a[-2:])  # grab last two elements\n",
    "print(a[::2])  # here there is no start there is no end , stride is 2 ( means that it takes two steps)"
   ]
  },
  {
   "cell_type": "markdown",
   "id": "3b2ab622",
   "metadata": {},
   "source": [
    "Array Slicing"
   ]
  },
  {
   "cell_type": "code",
   "execution_count": 22,
   "id": "cc65d424",
   "metadata": {},
   "outputs": [
    {
     "name": "stdout",
     "output_type": "stream",
     "text": [
      "[[ 1  2  3  4  5]\n",
      " [ 6  7  8  9 10]\n",
      " [11 12 13 14 15]\n",
      " [16 17 18 19 20]\n",
      " [21 22 23 24 25]]\n"
     ]
    },
    {
     "data": {
      "text/plain": [
       "array([[11, 13, 15],\n",
       "       [21, 23, 25]])"
      ]
     },
     "execution_count": 22,
     "metadata": {},
     "output_type": "execute_result"
    }
   ],
   "source": [
    "# slicing works much like standard python slicing\n",
    "\n",
    "\n",
    "a = np.array([[1, 2, 3, 4, 5], [6, 7, 8, 9, 10], [11, 12, 13, 14, 15], [16, 17, 18, 19, 20], [21, 22, 23, 24, 25]])\n",
    "\n",
    "print(a)\n",
    "\n",
    "a[4:, 4:]\n",
    "\n",
    "a[:, 2]\n",
    "\n",
    "a[2::2,::2]\n"
   ]
  },
  {
   "cell_type": "code",
   "execution_count": null,
   "id": "d542ac33",
   "metadata": {},
   "outputs": [
    {
     "name": "stdout",
     "output_type": "stream",
     "text": [
      "[20 21 22 23 24]\n",
      "[[ 1  3]\n",
      " [ 6  8]\n",
      " [11 13]\n",
      " [16 18]\n",
      " [21 23]]\n",
      "[[ 5  7]\n",
      " [15 17]]\n"
     ]
    }
   ],
   "source": [
    "a = np.arange(25).reshape(5,5)\n",
    "\n",
    "print(a[4,:])\n",
    "\n",
    "print(a[:, 1::2])\n",
    "\n",
    "print(a[1::2, 0:3:2])"
   ]
  },
  {
   "cell_type": "code",
   "execution_count": null,
   "id": "9f70dcfc",
   "metadata": {},
   "outputs": [
    {
     "name": "stdout",
     "output_type": "stream",
     "text": [
      "[-1  2]\n",
      "[-1  2  3  4  5]\n"
     ]
    }
   ],
   "source": [
    "# copying array using colon ( : )\n",
    "\n",
    "a = np.array([1, 2, 3, 4, 5])\n",
    "\n",
    "b = a[:2]\n",
    "\n",
    "b[0] = -1 # changed 0th index to -1\n",
    "\n",
    "print(b)\n",
    "\n",
    "print(a) # here as we can see changing b has effect on a"
   ]
  },
  {
   "cell_type": "markdown",
   "id": "8dacf03e",
   "metadata": {},
   "source": [
    "Explanation :  What's happening here is that we have some array a = [1, 2, 3, 4, 5], when we slice it and say that it is b array\n",
    "then it doesn't create a new array but it just look for sliced part and place it in b, so the 2 array shares the same memory location, \n",
    "So changing in b also change a because of same memory location."
   ]
  },
  {
   "cell_type": "code",
   "execution_count": 6,
   "id": "2a54b676",
   "metadata": {},
   "outputs": [
    {
     "name": "stdout",
     "output_type": "stream",
     "text": [
      "[4 5]\n"
     ]
    }
   ],
   "source": [
    "a = np.array([1, 2, 3, 4, 5])\n",
    "\n",
    "print(a[-2:])\n",
    "\n",
    "a[-2:] = [11, 12]   # replaces intire sliced array with another array\n",
    "\n",
    "a[-2:] = 25  # replaces intire array with array of same dimention but all filled element would be 25"
   ]
  },
  {
   "cell_type": "markdown",
   "id": "ab5e99b7",
   "metadata": {},
   "source": [
    "Dunder method :  it's like undercore things that is happening when we doing something like a[0] = 100 i.e. assigning a value"
   ]
  },
  {
   "cell_type": "code",
   "execution_count": null,
   "id": "31b3394a",
   "metadata": {},
   "outputs": [
    {
     "data": {
      "text/plain": [
       "5"
      ]
     },
     "execution_count": 11,
     "metadata": {},
     "output_type": "execute_result"
    }
   ],
   "source": [
    "#underling principle of python when i wrote this code\n",
    "\n",
    "a.__setitem__(0, 100)  # var.__setitem__(position, value) is python code where it set value 100 at index 0\n",
    "\n",
    "# it is same as a[0] = 100\n",
    "\n",
    "\n",
    "np.array.__call__([1, 2, 3]) # it is same as np.array([1,2,3])\n",
    "\n",
    "a.__len__() # same as len(a)"
   ]
  }
 ],
 "metadata": {
  "kernelspec": {
   "display_name": "qpai",
   "language": "python",
   "name": "python3"
  },
  "language_info": {
   "codemirror_mode": {
    "name": "ipython",
    "version": 3
   },
   "file_extension": ".py",
   "mimetype": "text/x-python",
   "name": "python",
   "nbconvert_exporter": "python",
   "pygments_lexer": "ipython3",
   "version": "3.13.5"
  }
 },
 "nbformat": 4,
 "nbformat_minor": 5
}
