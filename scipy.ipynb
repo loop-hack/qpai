{
 "cells": [
  {
   "cell_type": "code",
   "execution_count": 2,
   "id": "dbbfb824",
   "metadata": {},
   "outputs": [],
   "source": [
    "a = [1, 2, 3, 4, 5]"
   ]
  },
  {
   "cell_type": "code",
   "execution_count": 3,
   "id": "387450f2",
   "metadata": {},
   "outputs": [],
   "source": [
    "b = [1, 2, 3, 4, 5, 6]"
   ]
  },
  {
   "cell_type": "code",
   "execution_count": 4,
   "id": "073acd5f",
   "metadata": {},
   "outputs": [
    {
     "name": "stdout",
     "output_type": "stream",
     "text": [
      "[1, 2, 3, 4, 5, 1, 2, 3, 4, 5, 6]\n"
     ]
    }
   ],
   "source": [
    "print(a + b)"
   ]
  },
  {
   "cell_type": "code",
   "execution_count": 5,
   "id": "d0f3a7ee",
   "metadata": {},
   "outputs": [],
   "source": [
    "result = []\n",
    "\n",
    "for x, y in zip(a, b):\n",
    "    result.append( x + y)"
   ]
  },
  {
   "cell_type": "code",
   "execution_count": 6,
   "id": "689e3011",
   "metadata": {},
   "outputs": [
    {
     "data": {
      "text/plain": [
       "[2, 4, 6, 8, 10]"
      ]
     },
     "execution_count": 6,
     "metadata": {},
     "output_type": "execute_result"
    }
   ],
   "source": [
    "result"
   ]
  },
  {
   "cell_type": "code",
   "execution_count": 8,
   "id": "53f2fde9",
   "metadata": {},
   "outputs": [],
   "source": [
    "import numpy as np"
   ]
  },
  {
   "cell_type": "code",
   "execution_count": 9,
   "id": "cedad08a",
   "metadata": {},
   "outputs": [],
   "source": [
    "a = np.array([1, 2, 3, 4])"
   ]
  },
  {
   "cell_type": "code",
   "execution_count": 10,
   "id": "5804dee4",
   "metadata": {},
   "outputs": [
    {
     "data": {
      "text/plain": [
       "dtype('int64')"
      ]
     },
     "execution_count": 10,
     "metadata": {},
     "output_type": "execute_result"
    }
   ],
   "source": [
    "a.dtype"
   ]
  },
  {
   "cell_type": "code",
   "execution_count": 11,
   "id": "0a9bec1c",
   "metadata": {},
   "outputs": [],
   "source": [
    "a = np.array([1.2, 3.4, 5.6, 7.8, 9.0])"
   ]
  },
  {
   "cell_type": "code",
   "execution_count": 12,
   "id": "e5ccadc1",
   "metadata": {},
   "outputs": [
    {
     "data": {
      "text/plain": [
       "dtype('float64')"
      ]
     },
     "execution_count": 12,
     "metadata": {},
     "output_type": "execute_result"
    }
   ],
   "source": [
    "a.dtype"
   ]
  },
  {
   "cell_type": "code",
   "execution_count": 16,
   "id": "d08d6bd8",
   "metadata": {},
   "outputs": [
    {
     "name": "stdout",
     "output_type": "stream",
     "text": [
      "[10.   3.4  5.6  7.8  9. ]\n"
     ]
    },
    {
     "data": {
      "text/plain": [
       "dtype('float64')"
      ]
     },
     "execution_count": 16,
     "metadata": {},
     "output_type": "execute_result"
    }
   ],
   "source": [
    "a[0] = 10\n",
    "print(a)\n",
    "a.dtype"
   ]
  },
  {
   "cell_type": "code",
   "execution_count": 18,
   "id": "89f4c56e",
   "metadata": {},
   "outputs": [
    {
     "data": {
      "text/plain": [
       "1"
      ]
     },
     "execution_count": 18,
     "metadata": {},
     "output_type": "execute_result"
    }
   ],
   "source": [
    "a.ndim"
   ]
  },
  {
   "cell_type": "code",
   "execution_count": 19,
   "id": "0b4225cd",
   "metadata": {},
   "outputs": [
    {
     "data": {
      "text/plain": [
       "5"
      ]
     },
     "execution_count": 19,
     "metadata": {},
     "output_type": "execute_result"
    }
   ],
   "source": [
    "a.size"
   ]
  },
  {
   "cell_type": "code",
   "execution_count": 23,
   "id": "02415eb4",
   "metadata": {},
   "outputs": [
    {
     "name": "stdout",
     "output_type": "stream",
     "text": [
      "[ 2.2  4.3  6.4  8.5 11.7]\n",
      "[-0.2 -0.3 -0.4 -0.5 -1.7]\n",
      "[ 1.2  4.6 10.2 18.  33.5]\n",
      "[0.83333333 0.86956522 0.88235294 0.88888889 0.74626866]\n",
      "[0. 0. 0. 0. 0.]\n",
      "[1. 2. 3. 4. 5.]\n",
      "[1.00000000e+00 4.92457765e+00 4.18998305e+01 5.12000000e+02\n",
      " 4.82057705e+04]\n"
     ]
    }
   ],
   "source": [
    "a = np.array([1, 2, 3, 4, 5])\n",
    "f = np.array([1.2, 2.3, 3.4, 4.5, 6.7])\n",
    "print( a + f)\n",
    "print( a - f)\n",
    "print( a * f)\n",
    "print( a / f)\n",
    "print( a // f)\n",
    "print( a % f)\n",
    "print( a ** f)"
   ]
  },
  {
   "cell_type": "markdown",
   "id": "7d01b025",
   "metadata": {},
   "source": [
    "Universal function (ufuncs)"
   ]
  },
  {
   "cell_type": "code",
   "execution_count": 24,
   "id": "8ba13fdf",
   "metadata": {},
   "outputs": [
    {
     "data": {
      "text/plain": [
       "array([ 0.84147098,  0.90929743,  0.14112001, -0.7568025 , -0.95892427])"
      ]
     },
     "execution_count": 24,
     "metadata": {},
     "output_type": "execute_result"
    }
   ],
   "source": [
    "np.sin(a)"
   ]
  }
 ],
 "metadata": {
  "kernelspec": {
   "display_name": "qpai",
   "language": "python",
   "name": "python3"
  },
  "language_info": {
   "codemirror_mode": {
    "name": "ipython",
    "version": 3
   },
   "file_extension": ".py",
   "mimetype": "text/x-python",
   "name": "python",
   "nbconvert_exporter": "python",
   "pygments_lexer": "ipython3",
   "version": "3.13.5"
  }
 },
 "nbformat": 4,
 "nbformat_minor": 5
}
